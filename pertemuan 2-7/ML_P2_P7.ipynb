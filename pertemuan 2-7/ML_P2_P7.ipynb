{
  "nbformat": 4,
  "nbformat_minor": 0,
  "metadata": {
    "colab": {
      "provenance": []
    },
    "kernelspec": {
      "name": "python3",
      "display_name": "Python 3"
    },
    "language_info": {
      "name": "python"
    }
  },
  "cells": [
    {
      "cell_type": "markdown",
      "source": [
        "# **PERTEMUAN 2-7**"
      ],
      "metadata": {
        "id": "xJZsAmWeDnxq"
      }
    },
    {
      "cell_type": "markdown",
      "source": [
        "**P2**"
      ],
      "metadata": {
        "id": "-0DA6IBVFRjp"
      }
    },
    {
      "cell_type": "code",
      "execution_count": 1,
      "metadata": {
        "colab": {
          "base_uri": "https://localhost:8080/"
        },
        "id": "BKIpCO12O8Kw",
        "outputId": "bcf3c781-3195-4b27-9941-ca7ced68e895"
      },
      "outputs": [
        {
          "output_type": "stream",
          "name": "stdout",
          "text": [
            "\u001b[2K     \u001b[90m━━━━━━━━━━━━━━━━━━━━━━━━━━━━━━━━━━━━━━━━\u001b[0m \u001b[32m44.3/44.3 kB\u001b[0m \u001b[31m1.0 MB/s\u001b[0m eta \u001b[36m0:00:00\u001b[0m\n",
            "\u001b[2K   \u001b[90m━━━━━━━━━━━━━━━━━━━━━━━━━━━━━━━━━━━━━━━━\u001b[0m \u001b[32m9.9/9.9 MB\u001b[0m \u001b[31m52.9 MB/s\u001b[0m eta \u001b[36m0:00:00\u001b[0m\n",
            "\u001b[2K   \u001b[90m━━━━━━━━━━━━━━━━━━━━━━━━━━━━━━━━━━━━━━━━\u001b[0m \u001b[32m6.9/6.9 MB\u001b[0m \u001b[31m74.9 MB/s\u001b[0m eta \u001b[36m0:00:00\u001b[0m\n",
            "\u001b[2K   \u001b[90m━━━━━━━━━━━━━━━━━━━━━━━━━━━━━━━━━━━━━━━━\u001b[0m \u001b[32m79.1/79.1 kB\u001b[0m \u001b[31m6.7 MB/s\u001b[0m eta \u001b[36m0:00:00\u001b[0m\n",
            "\u001b[?25h"
          ]
        }
      ],
      "source": [
        "!pip install -q streamlit"
      ]
    },
    {
      "cell_type": "code",
      "source": [
        "%%writefile requirments.txt\n",
        "streamlit"
      ],
      "metadata": {
        "colab": {
          "base_uri": "https://localhost:8080/"
        },
        "id": "tWNDVWCzPZjM",
        "outputId": "3e477659-bc9f-46c9-f541-5e932191d414"
      },
      "execution_count": 2,
      "outputs": [
        {
          "output_type": "stream",
          "name": "stdout",
          "text": [
            "Writing requirments.txt\n"
          ]
        }
      ]
    },
    {
      "cell_type": "code",
      "source": [
        "!pip install -r requirments.txt"
      ],
      "metadata": {
        "colab": {
          "base_uri": "https://localhost:8080/"
        },
        "id": "3CDBU2j9Pg5v",
        "outputId": "e9642ed5-0f82-490c-f34d-61952a220550"
      },
      "execution_count": 3,
      "outputs": [
        {
          "output_type": "stream",
          "name": "stdout",
          "text": [
            "Requirement already satisfied: streamlit in /usr/local/lib/python3.11/dist-packages (from -r requirments.txt (line 1)) (1.45.0)\n",
            "Requirement already satisfied: altair<6,>=4.0 in /usr/local/lib/python3.11/dist-packages (from streamlit->-r requirments.txt (line 1)) (5.5.0)\n",
            "Requirement already satisfied: blinker<2,>=1.5.0 in /usr/local/lib/python3.11/dist-packages (from streamlit->-r requirments.txt (line 1)) (1.9.0)\n",
            "Requirement already satisfied: cachetools<6,>=4.0 in /usr/local/lib/python3.11/dist-packages (from streamlit->-r requirments.txt (line 1)) (5.5.2)\n",
            "Requirement already satisfied: click<9,>=7.0 in /usr/local/lib/python3.11/dist-packages (from streamlit->-r requirments.txt (line 1)) (8.1.8)\n",
            "Requirement already satisfied: numpy<3,>=1.23 in /usr/local/lib/python3.11/dist-packages (from streamlit->-r requirments.txt (line 1)) (2.0.2)\n",
            "Requirement already satisfied: packaging<25,>=20 in /usr/local/lib/python3.11/dist-packages (from streamlit->-r requirments.txt (line 1)) (24.2)\n",
            "Requirement already satisfied: pandas<3,>=1.4.0 in /usr/local/lib/python3.11/dist-packages (from streamlit->-r requirments.txt (line 1)) (2.2.2)\n",
            "Requirement already satisfied: pillow<12,>=7.1.0 in /usr/local/lib/python3.11/dist-packages (from streamlit->-r requirments.txt (line 1)) (11.2.1)\n",
            "Requirement already satisfied: protobuf<7,>=3.20 in /usr/local/lib/python3.11/dist-packages (from streamlit->-r requirments.txt (line 1)) (5.29.4)\n",
            "Requirement already satisfied: pyarrow>=7.0 in /usr/local/lib/python3.11/dist-packages (from streamlit->-r requirments.txt (line 1)) (18.1.0)\n",
            "Requirement already satisfied: requests<3,>=2.27 in /usr/local/lib/python3.11/dist-packages (from streamlit->-r requirments.txt (line 1)) (2.32.3)\n",
            "Requirement already satisfied: tenacity<10,>=8.1.0 in /usr/local/lib/python3.11/dist-packages (from streamlit->-r requirments.txt (line 1)) (9.1.2)\n",
            "Requirement already satisfied: toml<2,>=0.10.1 in /usr/local/lib/python3.11/dist-packages (from streamlit->-r requirments.txt (line 1)) (0.10.2)\n",
            "Requirement already satisfied: typing-extensions<5,>=4.4.0 in /usr/local/lib/python3.11/dist-packages (from streamlit->-r requirments.txt (line 1)) (4.13.2)\n",
            "Requirement already satisfied: watchdog<7,>=2.1.5 in /usr/local/lib/python3.11/dist-packages (from streamlit->-r requirments.txt (line 1)) (6.0.0)\n",
            "Requirement already satisfied: gitpython!=3.1.19,<4,>=3.0.7 in /usr/local/lib/python3.11/dist-packages (from streamlit->-r requirments.txt (line 1)) (3.1.44)\n",
            "Requirement already satisfied: pydeck<1,>=0.8.0b4 in /usr/local/lib/python3.11/dist-packages (from streamlit->-r requirments.txt (line 1)) (0.9.1)\n",
            "Requirement already satisfied: tornado<7,>=6.0.3 in /usr/local/lib/python3.11/dist-packages (from streamlit->-r requirments.txt (line 1)) (6.4.2)\n",
            "Requirement already satisfied: jinja2 in /usr/local/lib/python3.11/dist-packages (from altair<6,>=4.0->streamlit->-r requirments.txt (line 1)) (3.1.6)\n",
            "Requirement already satisfied: jsonschema>=3.0 in /usr/local/lib/python3.11/dist-packages (from altair<6,>=4.0->streamlit->-r requirments.txt (line 1)) (4.23.0)\n",
            "Requirement already satisfied: narwhals>=1.14.2 in /usr/local/lib/python3.11/dist-packages (from altair<6,>=4.0->streamlit->-r requirments.txt (line 1)) (1.37.1)\n",
            "Requirement already satisfied: gitdb<5,>=4.0.1 in /usr/local/lib/python3.11/dist-packages (from gitpython!=3.1.19,<4,>=3.0.7->streamlit->-r requirments.txt (line 1)) (4.0.12)\n",
            "Requirement already satisfied: python-dateutil>=2.8.2 in /usr/local/lib/python3.11/dist-packages (from pandas<3,>=1.4.0->streamlit->-r requirments.txt (line 1)) (2.9.0.post0)\n",
            "Requirement already satisfied: pytz>=2020.1 in /usr/local/lib/python3.11/dist-packages (from pandas<3,>=1.4.0->streamlit->-r requirments.txt (line 1)) (2025.2)\n",
            "Requirement already satisfied: tzdata>=2022.7 in /usr/local/lib/python3.11/dist-packages (from pandas<3,>=1.4.0->streamlit->-r requirments.txt (line 1)) (2025.2)\n",
            "Requirement already satisfied: charset-normalizer<4,>=2 in /usr/local/lib/python3.11/dist-packages (from requests<3,>=2.27->streamlit->-r requirments.txt (line 1)) (3.4.1)\n",
            "Requirement already satisfied: idna<4,>=2.5 in /usr/local/lib/python3.11/dist-packages (from requests<3,>=2.27->streamlit->-r requirments.txt (line 1)) (3.10)\n",
            "Requirement already satisfied: urllib3<3,>=1.21.1 in /usr/local/lib/python3.11/dist-packages (from requests<3,>=2.27->streamlit->-r requirments.txt (line 1)) (2.4.0)\n",
            "Requirement already satisfied: certifi>=2017.4.17 in /usr/local/lib/python3.11/dist-packages (from requests<3,>=2.27->streamlit->-r requirments.txt (line 1)) (2025.4.26)\n",
            "Requirement already satisfied: smmap<6,>=3.0.1 in /usr/local/lib/python3.11/dist-packages (from gitdb<5,>=4.0.1->gitpython!=3.1.19,<4,>=3.0.7->streamlit->-r requirments.txt (line 1)) (5.0.2)\n",
            "Requirement already satisfied: MarkupSafe>=2.0 in /usr/local/lib/python3.11/dist-packages (from jinja2->altair<6,>=4.0->streamlit->-r requirments.txt (line 1)) (3.0.2)\n",
            "Requirement already satisfied: attrs>=22.2.0 in /usr/local/lib/python3.11/dist-packages (from jsonschema>=3.0->altair<6,>=4.0->streamlit->-r requirments.txt (line 1)) (25.3.0)\n",
            "Requirement already satisfied: jsonschema-specifications>=2023.03.6 in /usr/local/lib/python3.11/dist-packages (from jsonschema>=3.0->altair<6,>=4.0->streamlit->-r requirments.txt (line 1)) (2025.4.1)\n",
            "Requirement already satisfied: referencing>=0.28.4 in /usr/local/lib/python3.11/dist-packages (from jsonschema>=3.0->altair<6,>=4.0->streamlit->-r requirments.txt (line 1)) (0.36.2)\n",
            "Requirement already satisfied: rpds-py>=0.7.1 in /usr/local/lib/python3.11/dist-packages (from jsonschema>=3.0->altair<6,>=4.0->streamlit->-r requirments.txt (line 1)) (0.24.0)\n",
            "Requirement already satisfied: six>=1.5 in /usr/local/lib/python3.11/dist-packages (from python-dateutil>=2.8.2->pandas<3,>=1.4.0->streamlit->-r requirments.txt (line 1)) (1.17.0)\n"
          ]
        }
      ]
    },
    {
      "cell_type": "code",
      "source": [
        "%%writefile app.py"
      ],
      "metadata": {
        "colab": {
          "base_uri": "https://localhost:8080/"
        },
        "id": "uMxa3SjTPgil",
        "outputId": "9022a496-dc09-4e1e-9bca-a16c4a69e079"
      },
      "execution_count": 4,
      "outputs": [
        {
          "output_type": "stream",
          "name": "stdout",
          "text": [
            "Writing app.py\n"
          ]
        }
      ]
    },
    {
      "cell_type": "code",
      "source": [
        "%%writefile Home.py\n",
        "import streamlit as st # import the streamlit library and assign it to the alias 'st'\n",
        "\n",
        "st.title(\"Pengembangan Machine Learning\")\n",
        "\n",
        "st.header(\"Pengembangan Machine Learning\")\n",
        "st.subheader(\"Menggunakan Machine Learning\")\n",
        "st.text(\"Selamat datang di aplikasi kami!\")"
      ],
      "metadata": {
        "colab": {
          "base_uri": "https://localhost:8080/"
        },
        "id": "-Wd2V3c7QQtD",
        "outputId": "3b24d029-c9a6-4898-e85d-40dabb1667a9"
      },
      "execution_count": 6,
      "outputs": [
        {
          "output_type": "stream",
          "name": "stdout",
          "text": [
            "Writing Home.py\n"
          ]
        }
      ]
    },
    {
      "cell_type": "code",
      "source": [
        "name = st.text_input('Masukkan Nama Anda')\n",
        "if name:\n",
        "  st.write(f'Halo Apa Kabar{name}')"
      ],
      "metadata": {
        "colab": {
          "base_uri": "https://localhost:8080/"
        },
        "id": "Uab8p2i1QQpd",
        "outputId": "502d658d-25d8-474a-f3f6-12280b6242a8"
      },
      "execution_count": null,
      "outputs": [
        {
          "output_type": "stream",
          "name": "stderr",
          "text": [
            "2025-03-26 07:31:19.461 Thread 'MainThread': missing ScriptRunContext! This warning can be ignored when running in bare mode.\n",
            "2025-03-26 07:31:19.463 Thread 'MainThread': missing ScriptRunContext! This warning can be ignored when running in bare mode.\n",
            "2025-03-26 07:31:19.464 Thread 'MainThread': missing ScriptRunContext! This warning can be ignored when running in bare mode.\n",
            "2025-03-26 07:31:19.465 Thread 'MainThread': missing ScriptRunContext! This warning can be ignored when running in bare mode.\n",
            "2025-03-26 07:31:19.466 Thread 'MainThread': missing ScriptRunContext! This warning can be ignored when running in bare mode.\n",
            "2025-03-26 07:31:19.467 Thread 'MainThread': missing ScriptRunContext! This warning can be ignored when running in bare mode.\n"
          ]
        }
      ]
    },
    {
      "cell_type": "code",
      "source": [
        "!pwd"
      ],
      "metadata": {
        "colab": {
          "base_uri": "https://localhost:8080/"
        },
        "id": "AjFD0Y46bZHx",
        "outputId": "92e7e4e6-feef-42ee-a687-9e6a63932d4c"
      },
      "execution_count": 7,
      "outputs": [
        {
          "output_type": "stream",
          "name": "stdout",
          "text": [
            "/content\n"
          ]
        }
      ]
    },
    {
      "cell_type": "code",
      "source": [
        "!ls"
      ],
      "metadata": {
        "colab": {
          "base_uri": "https://localhost:8080/"
        },
        "id": "PfxdMkDmbbae",
        "outputId": "74ed64d8-17b6-4b53-e4d5-f4e6968c43ca"
      },
      "execution_count": 8,
      "outputs": [
        {
          "output_type": "stream",
          "name": "stdout",
          "text": [
            "app.py\tHome.py  requirments.txt  sample_data\n"
          ]
        }
      ]
    },
    {
      "cell_type": "markdown",
      "source": [
        "**buat directory pages**"
      ],
      "metadata": {
        "id": "ZJdWps3JAoCy"
      }
    },
    {
      "cell_type": "code",
      "execution_count": 9,
      "metadata": {
        "id": "fuCTKtnaGhWH"
      },
      "outputs": [],
      "source": [
        "!mkdir pages"
      ]
    },
    {
      "cell_type": "code",
      "source": [
        "!ls"
      ],
      "metadata": {
        "colab": {
          "base_uri": "https://localhost:8080/"
        },
        "id": "guLjuEtzAweC",
        "outputId": "2b062050-6a10-4fb3-91a0-6c84f7003c36"
      },
      "execution_count": 10,
      "outputs": [
        {
          "output_type": "stream",
          "name": "stdout",
          "text": [
            "app.py\tHome.py  pages\trequirments.txt  sample_data\n"
          ]
        }
      ]
    },
    {
      "cell_type": "markdown",
      "source": [
        "**BUAT HALAMAN LAIN DI WEBSITE**"
      ],
      "metadata": {
        "id": "WI7Uy-VFA8-K"
      }
    },
    {
      "cell_type": "code",
      "source": [
        "!ls pages"
      ],
      "metadata": {
        "id": "gO5suLMCAzWr"
      },
      "execution_count": 11,
      "outputs": []
    },
    {
      "cell_type": "code",
      "source": [
        "%%writefile pages/Pertemuan_2.py\n",
        "# 1. Menampilkan teks biasa\n",
        "import streamlit as st\n",
        "st.text(\"Selamat datang di aplikasi kami!\")\n",
        "\n",
        "# 2. Heading dan subheading\n",
        "st.title(\"Aplikasi Prediksi Kesegaran Ikan\")\n",
        "st.header(\"Fitur Utama\")\n",
        "st.subheader(\"Menggunakan Machine Learning\")\n",
        "\n",
        "# 3. Menggunakan markdown untuk format teks\n",
        "st.markdown(\"**Teks Tebal** dan *Teks Miring*\")\n",
        "st.markdown(\"> Ini adalah kutipan.\")\n",
        "st.markdown(\"- Item pertama\\n- Item kedua\\n- Item ketiga\")\n",
        "\n",
        "# 4. Menampilkan caption\n",
        "st.caption(\"Dikembangkan oleh Tim Data Science\")\n",
        "\n",
        "# 5. Menampilkan kode program\n",
        "st.code(\"\"\"\n",
        "def hello():\n",
        "    print(\"Hello, Streamlit!\")\n",
        "\"\"\", language=\"python\")\n",
        "\n",
        "# 6. Menampilkan rumus matematika dengan Latex\n",
        "st.latex(r\"\\int_a^b f(x)dx = F(b) - F(a)\")\n",
        "\n",
        "# 7. Menampilkan garis pemisah\n",
        "st.divider()\n",
        "\n",
        "# 8. Menampilkan kode Python beserta outputnya\n",
        "st.title(\"Demonstrasi st.echo()\")\n",
        "\n",
        "with st.echo():\n",
        "    st.write(\"Halo, ini teks yang ditampilkan di Streamlit!\")\n",
        "    angka = 10 + 5\n",
        "    st.write(f\"Hasil perhitungan: {angka}\")"
      ],
      "metadata": {
        "colab": {
          "base_uri": "https://localhost:8080/"
        },
        "id": "LIIgGViIBMVh",
        "outputId": "707c56ae-af0a-4829-df27-232b76badb37"
      },
      "execution_count": 12,
      "outputs": [
        {
          "output_type": "stream",
          "name": "stdout",
          "text": [
            "Writing pages/Pertemuan_2.py\n"
          ]
        }
      ]
    },
    {
      "cell_type": "markdown",
      "source": [
        "**P3**"
      ],
      "metadata": {
        "id": "E54CTcGBFXIB"
      }
    },
    {
      "cell_type": "code",
      "source": [
        "%%writefile pages/Pertemuan_3_a.py\n",
        "# INPUT WIDGET\n",
        "# 1. TEXT INPUT\n",
        "# a. TEXT INPUT\n",
        "import streamlit as st\n",
        "# Membuat input teks dengan batasan karakter dan password\n",
        "username = st.text_input('Masukkan nama Anda:', 'John Doe')\n",
        "password = st.text_input('Masukkan kata sandi Anda:', type='password', max_chars=12)\n",
        "# Menampilkan input yang dimasukkan (jika perlu)\n",
        "st.write(f' Selamat Datang {username}')\n",
        "if password:\n",
        " st.write('Kata sandi dimasukkan.')\n",
        "\n",
        "# b. TEXT AREA\n",
        "# Membuat input teks area untuk deskripsi\n",
        "description = st.text_area('Masukkan deskripsi Anda:', 'Tulis deskripsi Anda di sini...', height=150)\n",
        "# Menampilkan input yang dimasukkan\n",
        "st.write(f'Deskripsi yang dimasukkan: {description}')\n",
        "\n",
        "# c. CHAT INPUT\n",
        "# Membuat chat input untuk menerima pesan pengguna\n",
        "message = st.chat_input('Tulis pesan Anda:')\n",
        "# Menampilkan pesan yang dimasukkan\n",
        "if message:\n",
        " st.write(f'Pesan yang Anda masukkan: {message}')\n",
        "\n",
        "# 2. NUMERIC INPUT\n",
        "# Membuat number input untuk memasukkan umur\n",
        "age = st.number_input('Masukkan umur Anda:', min_value=0,\n",
        "max_value=100, value=18, step=1)\n",
        "# Menampilkan umur yang dimasukkan\n",
        "st.write(f'Umur Anda adalah: {age}')\n",
        "\n",
        "# 3. SLIDER\n",
        "# Slider untuk memilih umur\n",
        "umur = st.slider('Pilih umur Anda:', min_value=0,\n",
        "max_value=100, value=25, step=1)\n",
        "# Menampilkan hasil pilihan\n",
        "st.write(f\"Umur Anda adalah: {umur}\")\n",
        "\n",
        "# 4. SELECT BOX\n",
        "# Membuat select box untuk memilih warna favorit\n",
        "color = st.selectbox('Pilih warna favorit Anda:', ['Merah', 'Biru',\n",
        "'Hijau', 'Kuning'])\n",
        "# Menampilkan pilihan yang dipilih\n",
        "st.write(f'Warna favorit Anda adalah: {color}')\n",
        "\n",
        "# 5. MULTI SELECT\n",
        "\n",
        "# Membuat multiselect untuk memilih hobi favorit\n",
        "hobbies = st.multiselect('Pilih hobi favorit Anda:', ['Membaca',\n",
        "'Olahraga', 'Menonton Film', 'Musik'])\n",
        "# Menampilkan hobi yang dipilih\n",
        "st.write(f'Hobi favorit Anda adalah: {\", \".join(hobbies)}')\n",
        "\n",
        "# 6. CHECK BOX\n",
        "# Membuat checkbox untuk menyetujui syarat dan ketentuan\n",
        "agree = st.checkbox('Setuju dengan syarat dan ketentuan')\n",
        "# Menampilkan status centang\n",
        "if agree:\n",
        " st.write('Terima kasih, Anda setuju dengan syarat dan ketentuan.')\n",
        "else:\n",
        " st.write('Silakan centang untuk menyetujui syarat dan ketentuan.')\n",
        "\n",
        " # 7. RADIO BUTTON\n",
        "# Membuat radio button untuk memilih jenis kelamin\n",
        "gender = st.radio('Pilih jenis kelamin:', ['Laki-laki',\n",
        "'Perempuan'])\n",
        "# Menampilkan pilihan yang dipilih\n",
        "st.write(f'Jenis kelamin yang Anda pilih adalah: {gender}')\n",
        "\n",
        "# 8. SELECT SLIDER\n",
        "# Membuat select slider untuk memilih tingkat kesulitan\n",
        "difficulty = st.select_slider('Pilih tingkat kesulitan:',\n",
        "options=['Mudah', 'Sedang', 'Sulit'])\n",
        "# Menampilkan tingkat kesulitan yang dipilih\n",
        "st.write(f'Tingkat kesulitan yang Anda pilih adalah: {difficulty}')\n",
        "\n",
        "# 9. Button\n",
        "# Input angka dari pengguna\n",
        "angka_1 = st.number_input(\"Masukkan angka pertama:\", value=0)\n",
        "angka_2 = st.number_input(\"Masukkan angka kedua:\", value=0)\n",
        "# Fungsi untuk menghitung penjumlahan\n",
        "def hitung_penjumlahan(a, b):\n",
        " return a + b\n",
        "# Tombol untuk menghitung\n",
        "if st.button(\"Hitung Penjumlahan\"):\n",
        " hasil = hitung_penjumlahan(angka_1, angka_2)\n",
        " st.write(f\"Hasil penjumlahan: {hasil}\")\n",
        "\n",
        "# 10. DOWNLOAD BUTTON\n",
        "# Data untuk diunduh\n",
        "data = 'Ini adalah contoh teks untuk diunduh.'\n",
        "# Membuat tombol download\n",
        "st.download_button('Unduh Teks', data, file_name='contoh.txt', mime='text/plain')\n",
        "\n",
        "# 11. LINK BUTTON\n",
        "# Membuat link button dengan label dan URL\n",
        "st.link_button('Kunjungi Streamlit', url='https://streamlit.io')"
      ],
      "metadata": {
        "colab": {
          "base_uri": "https://localhost:8080/"
        },
        "id": "nabgm7OlEGAS",
        "outputId": "c3d74e99-1a57-4c19-f67e-691d9f00dd3d"
      },
      "execution_count": 22,
      "outputs": [
        {
          "output_type": "stream",
          "name": "stdout",
          "text": [
            "Overwriting pages/Pertemuan_3_a.py\n"
          ]
        }
      ]
    },
    {
      "cell_type": "code",
      "execution_count": 29,
      "metadata": {
        "colab": {
          "base_uri": "https://localhost:8080/"
        },
        "id": "3VF3yFMNhHH2",
        "outputId": "1d9881ec-9029-4cd0-9a03-58f6179aeab7"
      },
      "outputs": [
        {
          "output_type": "stream",
          "name": "stdout",
          "text": [
            "  % Total    % Received % Xferd  Average Speed   Time    Time     Time  Current\n",
            "                                 Dload  Upload   Total   Spent    Left  Speed\n",
            "100 11517  100 11517    0     0  67944      0 --:--:-- --:--:-- --:--:-- 68147\n"
          ]
        }
      ],
      "source": [
        "!curl https://w7.pngwing.com/pngs/144/944/png-transparent-button-blue-button-miscellaneous-blue-sphere-thumbnail.png -o images/icon.jpg"
      ]
    },
    {
      "cell_type": "code",
      "execution_count": 30,
      "metadata": {
        "colab": {
          "base_uri": "https://localhost:8080/"
        },
        "id": "bpssuu_Ogelr",
        "outputId": "adc35eb5-3002-44f5-c6b6-54d961d355a0"
      },
      "outputs": [
        {
          "output_type": "stream",
          "name": "stdout",
          "text": [
            "Writing pages/Pertemuan_3_b.py\n"
          ]
        }
      ],
      "source": [
        "%%writefile pages/Pertemuan_3_b.py\n",
        "# 13. FORM SUBMIT BUTTON\n",
        "import streamlit as st\n",
        "# Membuat formulir\n",
        "with st.form(key='my_form'):\n",
        " # Menambahkan input teks\n",
        " name = st.text_input('Nama Anda')\n",
        " # Menambahkan input angka\n",
        " age = st.number_input('Usia Anda', min_value=0)\n",
        " # Menambahkan tombol kirim\n",
        " submit_button = st.form_submit_button(label='Kirim')\n",
        " if submit_button:\n",
        "  st.write(f'Nama: {name}')\n",
        "  st.write(f'Usia: {age}')"
      ]
    },
    {
      "cell_type": "code",
      "execution_count": 31,
      "metadata": {
        "colab": {
          "base_uri": "https://localhost:8080/"
        },
        "id": "TnpHddh_i3zq",
        "outputId": "0f616c0e-8ef4-4923-bc40-7d1a13e67338"
      },
      "outputs": [
        {
          "output_type": "stream",
          "name": "stdout",
          "text": [
            "Writing pages/Pertemuan_3_c.py\n"
          ]
        }
      ],
      "source": [
        "%%writefile pages/Pertemuan_3_c.py\n",
        "import streamlit as st\n",
        "import datetime\n",
        "\n",
        "# 14. DATE INPUT\n",
        "# Menampilkan date_input dengan nilai default tanggal hari ini\n",
        "date = st.date_input('Pilih Tanggal', value=datetime.date.today())\n",
        "# Menampilkan tanggal yang dipilih\n",
        "st.write('Tanggal yang dipilih:', date)\n",
        "\n",
        "# 15. TIME INPUT\n",
        "# Menampilkan time_input dengan nilai default waktu saat ini\n",
        "time = st.time_input('Pilih Waktu', value=datetime.time(14, 30))\n",
        "# Menampilkan waktu yang dipilih\n",
        "st.write('Waktu yang dipilih:', time)"
      ]
    },
    {
      "cell_type": "markdown",
      "source": [
        "**P4**"
      ],
      "metadata": {
        "id": "nQBXYl6LGm2z"
      }
    },
    {
      "cell_type": "code",
      "source": [
        "%%writefile pages/Pertemuan_4.py\n",
        "import streamlit as st\n",
        "# Sidebar menu\n",
        "st.sidebar.title(\"Menu\")\n",
        "page = st.sidebar.radio(\"Pilih Halaman\", [\"Beranda\", \"Tentang Kami\", \"Kontak\"])\n",
        "\n",
        "# Halaman Beranda\n",
        "if page == \"Beranda\":\n",
        "    st.title(\"Selamat Datang di Web Organisasi Kami\")\n",
        "    st.write(\"Ini adalah halaman beranda dari aplikasi web organisasi.\")\n",
        "    with st.container():\n",
        "        st.subheader(\"Visi\")\n",
        "        st.write(\"Menjadi organisasi terbaik di bidangnya.\")\n",
        "        st.subheader(\"Misi\")\n",
        "        st.write(\"Memberikan layanan terbaik kepada anggota dan masyarakat.\")\n",
        "\n",
        "# Halaman Tentang Kami\n",
        "elif page == \"Tentang Kami\":\n",
        "    st.title(\"Tentang Kami\")\n",
        "    with st.container():\n",
        "        st.write(\"Organisasi kami berdiri sejak tahun 2020 dengan tujuan meningkatkan kesejahteraan anggota.\")\n",
        "        st.image(\"https://media.istockphoto.com/id/1188452509/id/foto/tim-bisnis-yang-sukses-tersenyum-kerja-tim-kolega-kantor-perusahaan.jpg?s=2048x2048&w=is&k=20&c=IulOXLbBIKnHIfYdwTVGVHDkP1FK9tXkBXhNCOJOulg=\", caption=\"Foto Organisasi\")\n",
        "\n",
        "# Halaman Kontak\n",
        "elif page == \"Kontak\":\n",
        "    st.title(\"Hubungi Kami\")\n",
        "    with st.container():\n",
        "        nama = st.text_input(\"Nama\")\n",
        "        email = st.text_input(\"Email\")\n",
        "        pesan = st.text_area(\"Pesan\")\n",
        "        if st.button(\"Kirim\"):\n",
        "            st.success(f\"Terima kasih, {nama}! Pesan kamu sudah terkirim.\")\n",
        "\n",
        "# Tombol Tutup (ekstra sesuai gambar kamu)\n",
        "if st.button(\"Tutup\"):\n",
        "    st.write(\"Aplikasi ditutup. Terima kasih sudah mengunjungi!\")\n"
      ],
      "metadata": {
        "colab": {
          "base_uri": "https://localhost:8080/"
        },
        "id": "XTCsuN9wGrpR",
        "outputId": "ee3983c1-1456-4849-d47a-07e32f894df7"
      },
      "execution_count": 41,
      "outputs": [
        {
          "output_type": "stream",
          "name": "stdout",
          "text": [
            "Overwriting pages/Pertemuan_4.py\n"
          ]
        }
      ]
    },
    {
      "cell_type": "markdown",
      "source": [
        "**P5**"
      ],
      "metadata": {
        "id": "qbDYKCidJWxR"
      }
    },
    {
      "cell_type": "code",
      "source": [
        "%%writefile pages/Pertemuan_5.py\n",
        "import streamlit as st\n",
        "import pandas as pd\n",
        "import json\n",
        "# Membaca file CSV\n",
        "df = pd.read_csv(\"/content/drive/MyDrive/dataset/nutrition1.csv\")\n",
        "\n",
        "# Buat tab\n",
        "tab1, tab2, tab3 = st.tabs([\"Tabel\", \"Metrics\", \"JSON\"])\n",
        "\n",
        "# Tab 1: Tabel\n",
        "with tab1:\n",
        "    st.header(\"Data Nutrisi - Tabel\")\n",
        "    st.dataframe(df)  # menampilkan tabel interaktif\n",
        "\n",
        "# Tab 2: Metrics\n",
        "with tab2:\n",
        "    st.header(\"Data Nutrisi - Metrics\")\n",
        "    for index, row in df.iterrows():\n",
        "        st.subheader(row['name'])\n",
        "        col1, col2, col3, col4 = st.columns(4)\n",
        "        col1.metric(\"Calories\", row['calories'])\n",
        "        col2.metric(\"Proteins\", row['proteins'])\n",
        "        col3.metric(\"Fat\", row['fat'])\n",
        "        col4.metric(\"Carbs\", row['carbohydrate'])\n",
        "        st.image(row['image'], width=200)\n",
        "        st.markdown(\"---\")  # garis pemisah\n",
        "\n",
        "# Tab 3: JSON\n",
        "with tab3:\n",
        "    st.header(\"Data Nutrisi - JSON\")\n",
        "    st.json(df.to_dict(orient=\"records\"))"
      ],
      "metadata": {
        "colab": {
          "base_uri": "https://localhost:8080/"
        },
        "id": "Lm8ZEZm9JZVx",
        "outputId": "20c999a3-1205-41b0-8eac-42ad7fb77575"
      },
      "execution_count": 58,
      "outputs": [
        {
          "output_type": "stream",
          "name": "stdout",
          "text": [
            "Overwriting pages/Pertemuan_5.py\n"
          ]
        }
      ]
    },
    {
      "cell_type": "markdown",
      "source": [
        "**P6**"
      ],
      "metadata": {
        "id": "Eww5JmbfQdBY"
      }
    },
    {
      "cell_type": "code",
      "source": [
        "%%writefile pages/Pertemuan_6.py\n",
        "import streamlit as st\n",
        "import pandas as pd\n",
        "import numpy as np\n",
        "\n",
        "# Load data\n",
        "data = pd.read_csv(\"/content/drive/MyDrive/dataset/nutrition1.csv\")\n",
        "\n",
        "# Contoh tambahan: buat kolom latitude & longitude kalau belum ada di data\n",
        "# (kamu bisa ganti dengan data aslimu nanti)\n",
        "if 'latitude' not in data.columns or 'longitude' not in data.columns:\n",
        "    np.random.seed(42)\n",
        "    data['latitude'] = np.random.uniform(-6.2, -6.3, size=len(data))\n",
        "    data['longitude'] = np.random.uniform(106.8, 106.9, size=len(data))\n",
        "\n",
        "# Buat tabs\n",
        "tab1, tab2, tab3, tab4, tab5 = st.tabs(\n",
        "    [\"Grafik Area\", \"Grafik Garis\", \"Grafik Batang\", \"Grafik Scatter\", \"Peta\"]\n",
        ")\n",
        "\n",
        "# Tab 1: Grafik Area\n",
        "with tab1:\n",
        "    st.header(\"Grafik Area\")\n",
        "    st.area_chart(data[['calories', 'proteins', 'fat', 'carbohydrate']])\n",
        "\n",
        "# Tab 2: Grafik Garis\n",
        "with tab2:\n",
        "    st.header(\"Grafik Garis\")\n",
        "    st.line_chart(data[['calories', 'proteins', 'fat', 'carbohydrate']])\n",
        "\n",
        "# Tab 3: Grafik Batang\n",
        "with tab3:\n",
        "    st.header(\"Grafik Batang\")\n",
        "    st.bar_chart(data[['calories', 'proteins', 'fat', 'carbohydrate']])\n",
        "\n",
        "# Tab 4: Grafik Scatter\n",
        "with tab4:\n",
        "    st.header(\"Grafik Scatter\")\n",
        "    st.scatter_chart(data[['calories', 'proteins', 'fat', 'carbohydrate']])\n",
        "\n",
        "# Tab 5: Peta\n",
        "with tab5:\n",
        "    st.header(\"Peta\")\n",
        "    st.map(data[['latitude', 'longitude']])"
      ],
      "metadata": {
        "colab": {
          "base_uri": "https://localhost:8080/"
        },
        "id": "Fz8D58EZQfs5",
        "outputId": "7712bc19-edba-4080-c2cd-639641278350"
      },
      "execution_count": 65,
      "outputs": [
        {
          "output_type": "stream",
          "name": "stdout",
          "text": [
            "Writing pages/Pertemuan_6.py\n"
          ]
        }
      ]
    },
    {
      "cell_type": "markdown",
      "source": [
        "**P7**"
      ],
      "metadata": {
        "id": "5QuEMUm2RFQA"
      }
    },
    {
      "cell_type": "code",
      "source": [
        "# Load data\n",
        "import pandas as pd\n",
        "data = pd.read_excel(\"/content/drive/MyDrive/dataset/Data_Tanaman_Padi_Sumatera_version_3.xlsx\")\n",
        "data"
      ],
      "metadata": {
        "colab": {
          "base_uri": "https://localhost:8080/",
          "height": 423
        },
        "id": "Bwp0koPyTvLA",
        "outputId": "405ff624-2de7-4012-ab80-69510e753aec"
      },
      "execution_count": 81,
      "outputs": [
        {
          "output_type": "execute_result",
          "data": {
            "text/plain": [
              "    Provinsi  Tahun    Produksi  Luas_Panen  Curah_hujan  Kelembapan  \\\n",
              "0       Aceh   1993  1329536.00   323589.00       1627.0       82.00   \n",
              "1       Aceh   1994  1299699.00   329041.00       1521.0       82.12   \n",
              "2       Aceh   1995  1382905.00   339253.00       1476.0       82.72   \n",
              "3       Aceh   1996  1419128.00   348223.00       1557.0       83.00   \n",
              "4       Aceh   1997  1368074.00   337561.00       1339.0       82.46   \n",
              "..       ...    ...         ...         ...          ...         ...   \n",
              "219  Lampung   2016  3831923.00   390799.00       2317.6       79.40   \n",
              "220  Lampung   2017  4090654.00   396559.00       1825.1       77.04   \n",
              "221  Lampung   2018  2488641.91   511940.93       1385.8       76.05   \n",
              "222  Lampung   2019  2164089.33   464103.42       1706.4       78.03   \n",
              "223  Lampung   2020  2604913.29   545149.05       2211.3       75.80   \n",
              "\n",
              "     Suhu_rata_rata  \n",
              "0             26.06  \n",
              "1             26.92  \n",
              "2             26.27  \n",
              "3             26.08  \n",
              "4             26.31  \n",
              "..              ...  \n",
              "219           26.45  \n",
              "220           26.36  \n",
              "221           25.50  \n",
              "222           27.23  \n",
              "223           24.58  \n",
              "\n",
              "[224 rows x 7 columns]"
            ],
            "text/html": [
              "\n",
              "  <div id=\"df-3582666f-f82e-488d-84f7-9fb198ce4e5c\" class=\"colab-df-container\">\n",
              "    <div>\n",
              "<style scoped>\n",
              "    .dataframe tbody tr th:only-of-type {\n",
              "        vertical-align: middle;\n",
              "    }\n",
              "\n",
              "    .dataframe tbody tr th {\n",
              "        vertical-align: top;\n",
              "    }\n",
              "\n",
              "    .dataframe thead th {\n",
              "        text-align: right;\n",
              "    }\n",
              "</style>\n",
              "<table border=\"1\" class=\"dataframe\">\n",
              "  <thead>\n",
              "    <tr style=\"text-align: right;\">\n",
              "      <th></th>\n",
              "      <th>Provinsi</th>\n",
              "      <th>Tahun</th>\n",
              "      <th>Produksi</th>\n",
              "      <th>Luas_Panen</th>\n",
              "      <th>Curah_hujan</th>\n",
              "      <th>Kelembapan</th>\n",
              "      <th>Suhu_rata_rata</th>\n",
              "    </tr>\n",
              "  </thead>\n",
              "  <tbody>\n",
              "    <tr>\n",
              "      <th>0</th>\n",
              "      <td>Aceh</td>\n",
              "      <td>1993</td>\n",
              "      <td>1329536.00</td>\n",
              "      <td>323589.00</td>\n",
              "      <td>1627.0</td>\n",
              "      <td>82.00</td>\n",
              "      <td>26.06</td>\n",
              "    </tr>\n",
              "    <tr>\n",
              "      <th>1</th>\n",
              "      <td>Aceh</td>\n",
              "      <td>1994</td>\n",
              "      <td>1299699.00</td>\n",
              "      <td>329041.00</td>\n",
              "      <td>1521.0</td>\n",
              "      <td>82.12</td>\n",
              "      <td>26.92</td>\n",
              "    </tr>\n",
              "    <tr>\n",
              "      <th>2</th>\n",
              "      <td>Aceh</td>\n",
              "      <td>1995</td>\n",
              "      <td>1382905.00</td>\n",
              "      <td>339253.00</td>\n",
              "      <td>1476.0</td>\n",
              "      <td>82.72</td>\n",
              "      <td>26.27</td>\n",
              "    </tr>\n",
              "    <tr>\n",
              "      <th>3</th>\n",
              "      <td>Aceh</td>\n",
              "      <td>1996</td>\n",
              "      <td>1419128.00</td>\n",
              "      <td>348223.00</td>\n",
              "      <td>1557.0</td>\n",
              "      <td>83.00</td>\n",
              "      <td>26.08</td>\n",
              "    </tr>\n",
              "    <tr>\n",
              "      <th>4</th>\n",
              "      <td>Aceh</td>\n",
              "      <td>1997</td>\n",
              "      <td>1368074.00</td>\n",
              "      <td>337561.00</td>\n",
              "      <td>1339.0</td>\n",
              "      <td>82.46</td>\n",
              "      <td>26.31</td>\n",
              "    </tr>\n",
              "    <tr>\n",
              "      <th>...</th>\n",
              "      <td>...</td>\n",
              "      <td>...</td>\n",
              "      <td>...</td>\n",
              "      <td>...</td>\n",
              "      <td>...</td>\n",
              "      <td>...</td>\n",
              "      <td>...</td>\n",
              "    </tr>\n",
              "    <tr>\n",
              "      <th>219</th>\n",
              "      <td>Lampung</td>\n",
              "      <td>2016</td>\n",
              "      <td>3831923.00</td>\n",
              "      <td>390799.00</td>\n",
              "      <td>2317.6</td>\n",
              "      <td>79.40</td>\n",
              "      <td>26.45</td>\n",
              "    </tr>\n",
              "    <tr>\n",
              "      <th>220</th>\n",
              "      <td>Lampung</td>\n",
              "      <td>2017</td>\n",
              "      <td>4090654.00</td>\n",
              "      <td>396559.00</td>\n",
              "      <td>1825.1</td>\n",
              "      <td>77.04</td>\n",
              "      <td>26.36</td>\n",
              "    </tr>\n",
              "    <tr>\n",
              "      <th>221</th>\n",
              "      <td>Lampung</td>\n",
              "      <td>2018</td>\n",
              "      <td>2488641.91</td>\n",
              "      <td>511940.93</td>\n",
              "      <td>1385.8</td>\n",
              "      <td>76.05</td>\n",
              "      <td>25.50</td>\n",
              "    </tr>\n",
              "    <tr>\n",
              "      <th>222</th>\n",
              "      <td>Lampung</td>\n",
              "      <td>2019</td>\n",
              "      <td>2164089.33</td>\n",
              "      <td>464103.42</td>\n",
              "      <td>1706.4</td>\n",
              "      <td>78.03</td>\n",
              "      <td>27.23</td>\n",
              "    </tr>\n",
              "    <tr>\n",
              "      <th>223</th>\n",
              "      <td>Lampung</td>\n",
              "      <td>2020</td>\n",
              "      <td>2604913.29</td>\n",
              "      <td>545149.05</td>\n",
              "      <td>2211.3</td>\n",
              "      <td>75.80</td>\n",
              "      <td>24.58</td>\n",
              "    </tr>\n",
              "  </tbody>\n",
              "</table>\n",
              "<p>224 rows × 7 columns</p>\n",
              "</div>\n",
              "    <div class=\"colab-df-buttons\">\n",
              "\n",
              "  <div class=\"colab-df-container\">\n",
              "    <button class=\"colab-df-convert\" onclick=\"convertToInteractive('df-3582666f-f82e-488d-84f7-9fb198ce4e5c')\"\n",
              "            title=\"Convert this dataframe to an interactive table.\"\n",
              "            style=\"display:none;\">\n",
              "\n",
              "  <svg xmlns=\"http://www.w3.org/2000/svg\" height=\"24px\" viewBox=\"0 -960 960 960\">\n",
              "    <path d=\"M120-120v-720h720v720H120Zm60-500h600v-160H180v160Zm220 220h160v-160H400v160Zm0 220h160v-160H400v160ZM180-400h160v-160H180v160Zm440 0h160v-160H620v160ZM180-180h160v-160H180v160Zm440 0h160v-160H620v160Z\"/>\n",
              "  </svg>\n",
              "    </button>\n",
              "\n",
              "  <style>\n",
              "    .colab-df-container {\n",
              "      display:flex;\n",
              "      gap: 12px;\n",
              "    }\n",
              "\n",
              "    .colab-df-convert {\n",
              "      background-color: #E8F0FE;\n",
              "      border: none;\n",
              "      border-radius: 50%;\n",
              "      cursor: pointer;\n",
              "      display: none;\n",
              "      fill: #1967D2;\n",
              "      height: 32px;\n",
              "      padding: 0 0 0 0;\n",
              "      width: 32px;\n",
              "    }\n",
              "\n",
              "    .colab-df-convert:hover {\n",
              "      background-color: #E2EBFA;\n",
              "      box-shadow: 0px 1px 2px rgba(60, 64, 67, 0.3), 0px 1px 3px 1px rgba(60, 64, 67, 0.15);\n",
              "      fill: #174EA6;\n",
              "    }\n",
              "\n",
              "    .colab-df-buttons div {\n",
              "      margin-bottom: 4px;\n",
              "    }\n",
              "\n",
              "    [theme=dark] .colab-df-convert {\n",
              "      background-color: #3B4455;\n",
              "      fill: #D2E3FC;\n",
              "    }\n",
              "\n",
              "    [theme=dark] .colab-df-convert:hover {\n",
              "      background-color: #434B5C;\n",
              "      box-shadow: 0px 1px 3px 1px rgba(0, 0, 0, 0.15);\n",
              "      filter: drop-shadow(0px 1px 2px rgba(0, 0, 0, 0.3));\n",
              "      fill: #FFFFFF;\n",
              "    }\n",
              "  </style>\n",
              "\n",
              "    <script>\n",
              "      const buttonEl =\n",
              "        document.querySelector('#df-3582666f-f82e-488d-84f7-9fb198ce4e5c button.colab-df-convert');\n",
              "      buttonEl.style.display =\n",
              "        google.colab.kernel.accessAllowed ? 'block' : 'none';\n",
              "\n",
              "      async function convertToInteractive(key) {\n",
              "        const element = document.querySelector('#df-3582666f-f82e-488d-84f7-9fb198ce4e5c');\n",
              "        const dataTable =\n",
              "          await google.colab.kernel.invokeFunction('convertToInteractive',\n",
              "                                                    [key], {});\n",
              "        if (!dataTable) return;\n",
              "\n",
              "        const docLinkHtml = 'Like what you see? Visit the ' +\n",
              "          '<a target=\"_blank\" href=https://colab.research.google.com/notebooks/data_table.ipynb>data table notebook</a>'\n",
              "          + ' to learn more about interactive tables.';\n",
              "        element.innerHTML = '';\n",
              "        dataTable['output_type'] = 'display_data';\n",
              "        await google.colab.output.renderOutput(dataTable, element);\n",
              "        const docLink = document.createElement('div');\n",
              "        docLink.innerHTML = docLinkHtml;\n",
              "        element.appendChild(docLink);\n",
              "      }\n",
              "    </script>\n",
              "  </div>\n",
              "\n",
              "\n",
              "    <div id=\"df-d8f062a6-d814-4a76-8d4c-355779191547\">\n",
              "      <button class=\"colab-df-quickchart\" onclick=\"quickchart('df-d8f062a6-d814-4a76-8d4c-355779191547')\"\n",
              "                title=\"Suggest charts\"\n",
              "                style=\"display:none;\">\n",
              "\n",
              "<svg xmlns=\"http://www.w3.org/2000/svg\" height=\"24px\"viewBox=\"0 0 24 24\"\n",
              "     width=\"24px\">\n",
              "    <g>\n",
              "        <path d=\"M19 3H5c-1.1 0-2 .9-2 2v14c0 1.1.9 2 2 2h14c1.1 0 2-.9 2-2V5c0-1.1-.9-2-2-2zM9 17H7v-7h2v7zm4 0h-2V7h2v10zm4 0h-2v-4h2v4z\"/>\n",
              "    </g>\n",
              "</svg>\n",
              "      </button>\n",
              "\n",
              "<style>\n",
              "  .colab-df-quickchart {\n",
              "      --bg-color: #E8F0FE;\n",
              "      --fill-color: #1967D2;\n",
              "      --hover-bg-color: #E2EBFA;\n",
              "      --hover-fill-color: #174EA6;\n",
              "      --disabled-fill-color: #AAA;\n",
              "      --disabled-bg-color: #DDD;\n",
              "  }\n",
              "\n",
              "  [theme=dark] .colab-df-quickchart {\n",
              "      --bg-color: #3B4455;\n",
              "      --fill-color: #D2E3FC;\n",
              "      --hover-bg-color: #434B5C;\n",
              "      --hover-fill-color: #FFFFFF;\n",
              "      --disabled-bg-color: #3B4455;\n",
              "      --disabled-fill-color: #666;\n",
              "  }\n",
              "\n",
              "  .colab-df-quickchart {\n",
              "    background-color: var(--bg-color);\n",
              "    border: none;\n",
              "    border-radius: 50%;\n",
              "    cursor: pointer;\n",
              "    display: none;\n",
              "    fill: var(--fill-color);\n",
              "    height: 32px;\n",
              "    padding: 0;\n",
              "    width: 32px;\n",
              "  }\n",
              "\n",
              "  .colab-df-quickchart:hover {\n",
              "    background-color: var(--hover-bg-color);\n",
              "    box-shadow: 0 1px 2px rgba(60, 64, 67, 0.3), 0 1px 3px 1px rgba(60, 64, 67, 0.15);\n",
              "    fill: var(--button-hover-fill-color);\n",
              "  }\n",
              "\n",
              "  .colab-df-quickchart-complete:disabled,\n",
              "  .colab-df-quickchart-complete:disabled:hover {\n",
              "    background-color: var(--disabled-bg-color);\n",
              "    fill: var(--disabled-fill-color);\n",
              "    box-shadow: none;\n",
              "  }\n",
              "\n",
              "  .colab-df-spinner {\n",
              "    border: 2px solid var(--fill-color);\n",
              "    border-color: transparent;\n",
              "    border-bottom-color: var(--fill-color);\n",
              "    animation:\n",
              "      spin 1s steps(1) infinite;\n",
              "  }\n",
              "\n",
              "  @keyframes spin {\n",
              "    0% {\n",
              "      border-color: transparent;\n",
              "      border-bottom-color: var(--fill-color);\n",
              "      border-left-color: var(--fill-color);\n",
              "    }\n",
              "    20% {\n",
              "      border-color: transparent;\n",
              "      border-left-color: var(--fill-color);\n",
              "      border-top-color: var(--fill-color);\n",
              "    }\n",
              "    30% {\n",
              "      border-color: transparent;\n",
              "      border-left-color: var(--fill-color);\n",
              "      border-top-color: var(--fill-color);\n",
              "      border-right-color: var(--fill-color);\n",
              "    }\n",
              "    40% {\n",
              "      border-color: transparent;\n",
              "      border-right-color: var(--fill-color);\n",
              "      border-top-color: var(--fill-color);\n",
              "    }\n",
              "    60% {\n",
              "      border-color: transparent;\n",
              "      border-right-color: var(--fill-color);\n",
              "    }\n",
              "    80% {\n",
              "      border-color: transparent;\n",
              "      border-right-color: var(--fill-color);\n",
              "      border-bottom-color: var(--fill-color);\n",
              "    }\n",
              "    90% {\n",
              "      border-color: transparent;\n",
              "      border-bottom-color: var(--fill-color);\n",
              "    }\n",
              "  }\n",
              "</style>\n",
              "\n",
              "      <script>\n",
              "        async function quickchart(key) {\n",
              "          const quickchartButtonEl =\n",
              "            document.querySelector('#' + key + ' button');\n",
              "          quickchartButtonEl.disabled = true;  // To prevent multiple clicks.\n",
              "          quickchartButtonEl.classList.add('colab-df-spinner');\n",
              "          try {\n",
              "            const charts = await google.colab.kernel.invokeFunction(\n",
              "                'suggestCharts', [key], {});\n",
              "          } catch (error) {\n",
              "            console.error('Error during call to suggestCharts:', error);\n",
              "          }\n",
              "          quickchartButtonEl.classList.remove('colab-df-spinner');\n",
              "          quickchartButtonEl.classList.add('colab-df-quickchart-complete');\n",
              "        }\n",
              "        (() => {\n",
              "          let quickchartButtonEl =\n",
              "            document.querySelector('#df-d8f062a6-d814-4a76-8d4c-355779191547 button');\n",
              "          quickchartButtonEl.style.display =\n",
              "            google.colab.kernel.accessAllowed ? 'block' : 'none';\n",
              "        })();\n",
              "      </script>\n",
              "    </div>\n",
              "\n",
              "  <div id=\"id_9593135c-d807-43dc-a9ef-d52d80ba3d07\">\n",
              "    <style>\n",
              "      .colab-df-generate {\n",
              "        background-color: #E8F0FE;\n",
              "        border: none;\n",
              "        border-radius: 50%;\n",
              "        cursor: pointer;\n",
              "        display: none;\n",
              "        fill: #1967D2;\n",
              "        height: 32px;\n",
              "        padding: 0 0 0 0;\n",
              "        width: 32px;\n",
              "      }\n",
              "\n",
              "      .colab-df-generate:hover {\n",
              "        background-color: #E2EBFA;\n",
              "        box-shadow: 0px 1px 2px rgba(60, 64, 67, 0.3), 0px 1px 3px 1px rgba(60, 64, 67, 0.15);\n",
              "        fill: #174EA6;\n",
              "      }\n",
              "\n",
              "      [theme=dark] .colab-df-generate {\n",
              "        background-color: #3B4455;\n",
              "        fill: #D2E3FC;\n",
              "      }\n",
              "\n",
              "      [theme=dark] .colab-df-generate:hover {\n",
              "        background-color: #434B5C;\n",
              "        box-shadow: 0px 1px 3px 1px rgba(0, 0, 0, 0.15);\n",
              "        filter: drop-shadow(0px 1px 2px rgba(0, 0, 0, 0.3));\n",
              "        fill: #FFFFFF;\n",
              "      }\n",
              "    </style>\n",
              "    <button class=\"colab-df-generate\" onclick=\"generateWithVariable('data')\"\n",
              "            title=\"Generate code using this dataframe.\"\n",
              "            style=\"display:none;\">\n",
              "\n",
              "  <svg xmlns=\"http://www.w3.org/2000/svg\" height=\"24px\"viewBox=\"0 0 24 24\"\n",
              "       width=\"24px\">\n",
              "    <path d=\"M7,19H8.4L18.45,9,17,7.55,7,17.6ZM5,21V16.75L18.45,3.32a2,2,0,0,1,2.83,0l1.4,1.43a1.91,1.91,0,0,1,.58,1.4,1.91,1.91,0,0,1-.58,1.4L9.25,21ZM18.45,9,17,7.55Zm-12,3A5.31,5.31,0,0,0,4.9,8.1,5.31,5.31,0,0,0,1,6.5,5.31,5.31,0,0,0,4.9,4.9,5.31,5.31,0,0,0,6.5,1,5.31,5.31,0,0,0,8.1,4.9,5.31,5.31,0,0,0,12,6.5,5.46,5.46,0,0,0,6.5,12Z\"/>\n",
              "  </svg>\n",
              "    </button>\n",
              "    <script>\n",
              "      (() => {\n",
              "      const buttonEl =\n",
              "        document.querySelector('#id_9593135c-d807-43dc-a9ef-d52d80ba3d07 button.colab-df-generate');\n",
              "      buttonEl.style.display =\n",
              "        google.colab.kernel.accessAllowed ? 'block' : 'none';\n",
              "\n",
              "      buttonEl.onclick = () => {\n",
              "        google.colab.notebook.generateWithVariable('data');\n",
              "      }\n",
              "      })();\n",
              "    </script>\n",
              "  </div>\n",
              "\n",
              "    </div>\n",
              "  </div>\n"
            ],
            "application/vnd.google.colaboratory.intrinsic+json": {
              "type": "dataframe",
              "variable_name": "data",
              "summary": "{\n  \"name\": \"data\",\n  \"rows\": 224,\n  \"fields\": [\n    {\n      \"column\": \"Provinsi\",\n      \"properties\": {\n        \"dtype\": \"category\",\n        \"num_unique_values\": 8,\n        \"samples\": [\n          \"Sumatera Utara\",\n          \"Sumatera Selatan\",\n          \"Aceh\"\n        ],\n        \"semantic_type\": \"\",\n        \"description\": \"\"\n      }\n    },\n    {\n      \"column\": \"Tahun\",\n      \"properties\": {\n        \"dtype\": \"number\",\n        \"std\": 8,\n        \"min\": 1993,\n        \"max\": 2020,\n        \"num_unique_values\": 28,\n        \"samples\": [\n          2002,\n          2018,\n          2001\n        ],\n        \"semantic_type\": \"\",\n        \"description\": \"\"\n      }\n    },\n    {\n      \"column\": \"Produksi\",\n      \"properties\": {\n        \"dtype\": \"number\",\n        \"std\": 1161387.3940689566,\n        \"min\": 42938.0,\n        \"max\": 4881089.0,\n        \"num_unique_values\": 224,\n        \"samples\": [\n          1314165.0,\n          436297.0,\n          550277.0\n        ],\n        \"semantic_type\": \"\",\n        \"description\": \"\"\n      }\n    },\n    {\n      \"column\": \"Luas_Panen\",\n      \"properties\": {\n        \"dtype\": \"number\",\n        \"std\": 232751.16198748833,\n        \"min\": 63142.04,\n        \"max\": 872737.0,\n        \"num_unique_values\": 224,\n        \"samples\": [\n          315131.0,\n          146133.0,\n          178766.0\n        ],\n        \"semantic_type\": \"\",\n        \"description\": \"\"\n      }\n    },\n    {\n      \"column\": \"Curah_hujan\",\n      \"properties\": {\n        \"dtype\": \"number\",\n        \"std\": 1031.9726245625448,\n        \"min\": 222.5,\n        \"max\": 5522.0,\n        \"num_unique_values\": 220,\n        \"samples\": [\n          1781.0,\n          2368.2,\n          3123.8\n        ],\n        \"semantic_type\": \"\",\n        \"description\": \"\"\n      }\n    },\n    {\n      \"column\": \"Kelembapan\",\n      \"properties\": {\n        \"dtype\": \"number\",\n        \"std\": 4.878679857345064,\n        \"min\": 54.2,\n        \"max\": 90.6,\n        \"num_unique_values\": 180,\n        \"samples\": [\n          79.6,\n          78.55,\n          82.52\n        ],\n        \"semantic_type\": \"\",\n        \"description\": \"\"\n      }\n    },\n    {\n      \"column\": \"Suhu_rata_rata\",\n      \"properties\": {\n        \"dtype\": \"number\",\n        \"std\": 1.1970410749183342,\n        \"min\": 22.19,\n        \"max\": 29.85,\n        \"num_unique_values\": 136,\n        \"samples\": [\n          25.98,\n          24.82,\n          25.8\n        ],\n        \"semantic_type\": \"\",\n        \"description\": \"\"\n      }\n    }\n  ]\n}"
            }
          },
          "metadata": {},
          "execution_count": 81
        }
      ]
    },
    {
      "cell_type": "code",
      "source": [
        "data.info()"
      ],
      "metadata": {
        "colab": {
          "base_uri": "https://localhost:8080/"
        },
        "id": "3PfylDGTXKxo",
        "outputId": "016e1af6-5d07-4644-b3ad-c076c9a89d66"
      },
      "execution_count": 90,
      "outputs": [
        {
          "output_type": "stream",
          "name": "stdout",
          "text": [
            "<class 'pandas.core.frame.DataFrame'>\n",
            "RangeIndex: 224 entries, 0 to 223\n",
            "Data columns (total 7 columns):\n",
            " #   Column          Non-Null Count  Dtype  \n",
            "---  ------          --------------  -----  \n",
            " 0   Provinsi        224 non-null    object \n",
            " 1   Tahun           224 non-null    int64  \n",
            " 2   Produksi        224 non-null    float64\n",
            " 3   Luas_Panen      224 non-null    float64\n",
            " 4   Curah_hujan     224 non-null    float64\n",
            " 5   Kelembapan      224 non-null    float64\n",
            " 6   Suhu_rata_rata  224 non-null    float64\n",
            "dtypes: float64(5), int64(1), object(1)\n",
            "memory usage: 12.4+ KB\n"
          ]
        }
      ]
    },
    {
      "cell_type": "code",
      "source": [
        "%%writefile pages/Pertemuan_7.py\n",
        "import streamlit as st\n",
        "import pandas as pd\n",
        "\n",
        "# Load data\n",
        "data = pd.read_excel(\"/content/drive/MyDrive/dataset/Data_Tanaman_Padi_Sumatera_version_3.xlsx\")\n",
        "\n",
        "# Judul dashboard\n",
        "st.title(\"📊 Dashboard Tanaman Padi Sumatera, Indonesia\")\n",
        "\n",
        "# Sidebar filter\n",
        "provinsi = st.sidebar.selectbox(\"Pilih Provinsi\", data['Provinsi'].unique())\n",
        "tahun = st.sidebar.selectbox(\"Pilih Tahun\", sorted(data['Tahun'].unique()))\n",
        "\n",
        "# Filter data\n",
        "filtered_data = data[(data['Provinsi'] == provinsi) & (data['Tahun'] == tahun)]\n",
        "\n",
        "# Menampilkan data terfilter\n",
        "st.subheader(f\"Data untuk {provinsi}, Tahun {tahun}\")\n",
        "st.dataframe(filtered_data)\n",
        "\n",
        "# Visualisasi 2: Curah Hujan, Kelembapan, Suhu Rata-rata\n",
        "st.subheader(\"Curah Hujan, Kelembapan, Suhu Rata-rata\")\n",
        "if len(filtered_data) == 1:\n",
        "    st.line_chart(filtered_data[['Curah_hujan', 'Kelembapan', 'Suhu_rata_rata']].T)\n",
        "else:\n",
        "    st.line_chart(filtered_data[['Curah_hujan', 'Kelembapan', 'Suhu_rata_rata']].set_index(filtered_data['Provinsi']))\n",
        "\n",
        "# Visualisasi: Bar chart Produksi vs Luas Panen\n",
        "st.subheader(\"Produksi vs Luas Panen\")\n",
        "if len(filtered_data) == 1:\n",
        "    st.bar_chart(filtered_data[['Produksi', 'Luas_Panen']].T)\n",
        "else:\n",
        "    st.bar_chart(filtered_data[['Produksi', 'Luas_Panen']].set_index(filtered_data['Provinsi']))\n",
        "\n",
        "# Visualisasi 4: Summary Statistik\n",
        "st.subheader(\"Summary Statistik\")\n",
        "st.write(filtered_data.describe())\n",
        "\n",
        "# Info tambahan\n",
        "st.markdown(\"📌 Dashboard ini membantu menganalisis hubungan antara produksi padi, kondisi iklim, dan luas panen di Sumatera.\")"
      ],
      "metadata": {
        "colab": {
          "base_uri": "https://localhost:8080/"
        },
        "id": "9_X41Zd_RIC4",
        "outputId": "9c631935-f56e-48e0-8fe7-07063035d68f"
      },
      "execution_count": 100,
      "outputs": [
        {
          "output_type": "stream",
          "name": "stdout",
          "text": [
            "Overwriting pages/Pertemuan_7.py\n"
          ]
        }
      ]
    },
    {
      "cell_type": "code",
      "source": [
        "!npm install localtunnel"
      ],
      "metadata": {
        "colab": {
          "base_uri": "https://localhost:8080/"
        },
        "id": "tyIh8WwWQQl_",
        "outputId": "02248608-2ca3-4592-b70f-2d885d57f810"
      },
      "execution_count": 13,
      "outputs": [
        {
          "output_type": "stream",
          "name": "stdout",
          "text": [
            "\u001b[1G\u001b[0K⠙\u001b[1G\u001b[0K⠹\u001b[1G\u001b[0K⠸\u001b[1G\u001b[0K⠼\u001b[1G\u001b[0K⠴\u001b[1G\u001b[0K⠦\u001b[1G\u001b[0K⠧\u001b[1G\u001b[0K⠇\u001b[1G\u001b[0K⠏\u001b[1G\u001b[0K⠋\u001b[1G\u001b[0K⠙\u001b[1G\u001b[0K⠹\u001b[1G\u001b[0K⠸\u001b[1G\u001b[0K⠼\u001b[1G\u001b[0K⠴\u001b[1G\u001b[0K⠦\u001b[1G\u001b[0K⠧\u001b[1G\u001b[0K⠇\u001b[1G\u001b[0K⠏\u001b[1G\u001b[0K⠋\u001b[1G\u001b[0K⠙\u001b[1G\u001b[0K⠹\u001b[1G\u001b[0K⠸\u001b[1G\u001b[0K⠼\u001b[1G\u001b[0K\n",
            "added 22 packages in 3s\n",
            "\u001b[1G\u001b[0K⠼\u001b[1G\u001b[0K\n",
            "\u001b[1G\u001b[0K⠴\u001b[1G\u001b[0K3 packages are looking for funding\n",
            "\u001b[1G\u001b[0K⠴\u001b[1G\u001b[0K  run `npm fund` for details\n",
            "\u001b[1G\u001b[0K⠴\u001b[1G\u001b[0K"
          ]
        }
      ]
    },
    {
      "cell_type": "code",
      "source": [
        "!streamlit run /content/app.py &>/content/logs.txt &"
      ],
      "metadata": {
        "id": "dbrEQ_CzQQfu"
      },
      "execution_count": 101,
      "outputs": []
    },
    {
      "cell_type": "code",
      "source": [
        "!cat /content/logs.txt"
      ],
      "metadata": {
        "colab": {
          "base_uri": "https://localhost:8080/"
        },
        "id": "IINGV1XiQQWF",
        "outputId": "f770d546-33d9-4167-bdc9-031e9faee049"
      },
      "execution_count": 102,
      "outputs": [
        {
          "output_type": "stream",
          "name": "stdout",
          "text": [
            "\n",
            "Collecting usage statistics. To deactivate, set browser.gatherUsageStats to false.\n",
            "\n",
            "\n",
            "  You can now view your Streamlit app in your browser.\n",
            "\n",
            "  Local URL: http://localhost:8501\n",
            "  Network URL: http://172.28.0.12:8501\n",
            "  External URL: http://34.106.218.1:8501\n",
            "\n"
          ]
        }
      ]
    },
    {
      "cell_type": "code",
      "source": [
        "!npx localtunnel --port 8501"
      ],
      "metadata": {
        "colab": {
          "base_uri": "https://localhost:8080/"
        },
        "id": "WpIZk_-6Xg3F",
        "outputId": "aef1c045-7e82-49a3-85aa-1a42c83d8a00"
      },
      "execution_count": 103,
      "outputs": [
        {
          "output_type": "stream",
          "name": "stdout",
          "text": [
            "\u001b[1G\u001b[0K⠙\u001b[1G\u001b[0Kyour url is: https://angry-toes-live.loca.lt\n",
            "^C\n"
          ]
        }
      ]
    }
  ]
}